{
  "nbformat": 4,
  "nbformat_minor": 0,
  "metadata": {
    "colab": {
      "provenance": [],
      "mount_file_id": "1CHb_XkgC-lmwadyzoh-kneGXr-bzX9W5",
      "authorship_tag": "ABX9TyOhr+ZZazknaC/ckhgdkTKy",
      "include_colab_link": true
    },
    "kernelspec": {
      "name": "python3",
      "display_name": "Python 3"
    },
    "language_info": {
      "name": "python"
    }
  },
  "cells": [
    {
      "cell_type": "markdown",
      "metadata": {
        "id": "view-in-github",
        "colab_type": "text"
      },
      "source": [
        "<a href=\"https://colab.research.google.com/github/rsmrqz/Procesamiento-de-Nube-de-Puntos/blob/main/PNP_Tarea_2_RSM.ipynb\" target=\"_parent\"><img src=\"https://colab.research.google.com/assets/colab-badge.svg\" alt=\"Open In Colab\"/></a>"
      ]
    },
    {
      "cell_type": "code",
      "source": [
        "!pip install exifread"
      ],
      "metadata": {
        "colab": {
          "base_uri": "https://localhost:8080/"
        },
        "id": "QUDK2C5kQgo3",
        "outputId": "c2baddc8-7cf8-4018-a4a5-ad1d28bd1da4"
      },
      "execution_count": 10,
      "outputs": [
        {
          "output_type": "stream",
          "name": "stdout",
          "text": [
            "Requirement already satisfied: exifread in /usr/local/lib/python3.10/dist-packages (3.0.0)\n",
            "EXIF FocalLength: 2147483647/440058112\n",
            "EXIF FocalPlaneXResolution: 2147483647/2877628\n",
            "EXIF FocalPlaneYResolution: 2147483647/2877628\n",
            "EXIF PrincipalPoint: None\n",
            "EXIF PerspectiveDistortion: None\n",
            "EXIF FocalLength: 4.88 mm\n",
            "EXIF FocalPlaneXResolution: 746.27 pixels/mm\n",
            "EXIF FocalPlaneYResolution: 746.27 pixels/mm\n",
            "EXIF PrincipalPoint: None\n",
            "EXIF PerspectiveDistortion: None\n"
          ]
        }
      ]
    },
    {
      "cell_type": "code",
      "source": [
        "import exifread"
      ],
      "metadata": {
        "id": "EaN14UhMQq1a"
      },
      "execution_count": 11,
      "outputs": []
    },
    {
      "cell_type": "code",
      "source": [
        "# Abre la imagen en modo binario\n",
        "with open(\"/content/drive/MyDrive/ProcNubes2024/RECURSOS/CALIBRACION/TestImageRGB.JPG\", 'rb') as f:\n",
        "    tags = exifread.process_file(f)"
      ],
      "metadata": {
        "id": "FSWEAPCoQqlF"
      },
      "execution_count": 12,
      "outputs": []
    },
    {
      "cell_type": "code",
      "source": [
        "# Campos de interés\n",
        "foi = [ #field of interest\n",
        "    'EXIF FocalLength',\n",
        "    'EXIF FocalPlaneXResolution',\n",
        "    'EXIF FocalPlaneYResolution',\n",
        "    'EXIF PrincipalPoint',\n",
        "    'EXIF PerspectiveDistortion'\n",
        "]"
      ],
      "metadata": {
        "id": "ORPZy2MKQqii"
      },
      "execution_count": 13,
      "outputs": []
    },
    {
      "cell_type": "code",
      "source": [
        "# Extrae los campos relevantes\n",
        "exif_results = {field: tags.get(field) for field in foi}"
      ],
      "metadata": {
        "id": "MosvovghQqfq"
      },
      "execution_count": 14,
      "outputs": []
    },
    {
      "cell_type": "code",
      "source": [
        "# Muestra los resultados\n",
        "for field, value in exif_results.items():\n",
        "    print(f\"{field}: {value}\")"
      ],
      "metadata": {
        "colab": {
          "base_uri": "https://localhost:8080/"
        },
        "id": "B_n4mrUAQqcg",
        "outputId": "6f74cced-a58f-4715-f02c-970c099a3d1e"
      },
      "execution_count": 15,
      "outputs": [
        {
          "output_type": "stream",
          "name": "stdout",
          "text": [
            "EXIF FocalLength: 2147483647/440058112\n",
            "EXIF FocalPlaneXResolution: 2147483647/2877628\n",
            "EXIF FocalPlaneYResolution: 2147483647/2877628\n",
            "EXIF PrincipalPoint: None\n",
            "EXIF PerspectiveDistortion: None\n"
          ]
        }
      ]
    },
    {
      "cell_type": "code",
      "source": [
        "# Diccionario para los campos con las unidades\n",
        "units = {\n",
        "    'EXIF FocalLength': 'mm',\n",
        "    'EXIF FocalPlaneXResolution': 'pixels/mm',\n",
        "    'EXIF FocalPlaneYResolution': 'pixels/mm',\n",
        "    'EXIF PrincipalPoint': '',\n",
        "    'EXIF PerspectiveDistortion': ''\n",
        "}"
      ],
      "metadata": {
        "id": "FUblcwpyQqW_"
      },
      "execution_count": 16,
      "outputs": []
    },
    {
      "cell_type": "code",
      "source": [
        "# Calcula y muestra los resultados en unidades de medida\n",
        "def convert_to_units(value):\n",
        "    try:\n",
        "        if '/' in str(value):\n",
        "            num, den = map(int, str(value).split('/'))\n",
        "            return num / den\n",
        "        return value\n",
        "    except:\n",
        "        return None\n",
        "\n",
        "for field, value in exif_results.items():\n",
        "    converted_value = convert_to_units(value)\n",
        "    unit = units.get(field, '')\n",
        "    if converted_value is not None:\n",
        "        if unit:\n",
        "            print(f\"{field}: {converted_value:.2f} {unit}\")\n",
        "        else:\n",
        "            print(f\"{field}: {converted_value}\")\n",
        "    else:\n",
        "        print(f\"{field}: None\")"
      ],
      "metadata": {
        "colab": {
          "base_uri": "https://localhost:8080/"
        },
        "id": "X3hkJoFuQ9IG",
        "outputId": "490393af-94d9-4898-e541-8fd979ea8e54"
      },
      "execution_count": 17,
      "outputs": [
        {
          "output_type": "stream",
          "name": "stdout",
          "text": [
            "EXIF FocalLength: 4.88 mm\n",
            "EXIF FocalPlaneXResolution: 746.27 pixels/mm\n",
            "EXIF FocalPlaneYResolution: 746.27 pixels/mm\n",
            "EXIF PrincipalPoint: None\n",
            "EXIF PerspectiveDistortion: None\n"
          ]
        }
      ]
    }
  ]
}